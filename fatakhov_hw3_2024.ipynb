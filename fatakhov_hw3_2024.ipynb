{
 "nbformat": 4,
 "nbformat_minor": 0,
 "metadata": {
  "colab": {
   "provenance": []
  },
  "kernelspec": {
   "name": "python3",
   "display_name": "Python 3"
  },
  "language_info": {
   "name": "python"
  }
 },
 "cells": [
  {
   "cell_type": "markdown",
   "source": [
    "# Устанавливаем java и ChromHmm"
   ],
   "metadata": {
    "id": "vRciyzvPEDLD",
    "pycharm": {
     "name": "#%% md\n"
    }
   }
  },
  {
   "cell_type": "code",
   "source": [
    "!curl -O https://raw.githubusercontent.com/deepjavalibrary/d2l-java/master/tools/fix-colab-gpu.sh && bash fix-colab-gpu.sh"
   ],
   "metadata": {
    "colab": {
     "base_uri": "https://localhost:8080/"
    },
    "id": "1O3GJ3Gys7Tm",
    "outputId": "a82dc3aa-8a0d-4bb6-bf18-3f9436cd466b",
    "pycharm": {
     "name": "#%%\n"
    }
   },
   "execution_count": 1,
   "outputs": [
    {
     "output_type": "stream",
     "name": "stdout",
     "text": [
      "  % Total    % Received % Xferd  Average Speed   Time    Time     Time  Current\n",
      "                                 Dload  Upload   Total   Spent    Left  Speed\n",
      "\r  0     0    0     0    0     0      0      0 --:--:-- --:--:-- --:--:--     0\r100   155  100   155    0     0    772      0 --:--:-- --:--:-- --:--:--   775\n",
      "fix-colab-gpu.sh: line 5: nvcc: command not found\n"
     ]
    }
   ]
  },
  {
   "cell_type": "code",
   "execution_count": 2,
   "metadata": {
    "colab": {
     "base_uri": "https://localhost:8080/"
    },
    "id": "NxS1Mv5WquOV",
    "outputId": "252e4519-e0f6-451b-d294-23ce80587e6b",
    "pycharm": {
     "name": "#%%\n"
    }
   },
   "outputs": [
    {
     "output_type": "stream",
     "name": "stdout",
     "text": [
      "  % Total    % Received % Xferd  Average Speed   Time    Time     Time  Current\n",
      "                                 Dload  Upload   Total   Spent    Left  Speed\n",
      "\r  0     0    0     0    0     0      0      0 --:--:-- --:--:-- --:--:--     0\r100   520  100   520    0     0   5593      0 --:--:-- --:--:-- --:--:--  5652\n",
      "Update environment...\n",
      "Install Java...\n",
      "Install Jupyter java kernel...\n"
     ]
    }
   ],
   "source": [
    "!curl -O https://raw.githubusercontent.com/deepjavalibrary/d2l-java/master/tools/colab_build.sh && bash colab_build.sh"
   ]
  },
  {
   "cell_type": "code",
   "source": [
    "!java --list-modules | grep \"jdk.jshell\"\n"
   ],
   "metadata": {
    "colab": {
     "base_uri": "https://localhost:8080/"
    },
    "id": "_NrPS924rQFX",
    "outputId": "32203a14-2f6e-4a12-e50b-5e96c30e8019",
    "pycharm": {
     "name": "#%%\n"
    }
   },
   "execution_count": 3,
   "outputs": [
    {
     "output_type": "stream",
     "name": "stdout",
     "text": [
      "jdk.jshell@11.0.22\n"
     ]
    }
   ]
  },
  {
   "cell_type": "code",
   "source": [
    "! wget http://compbio.mit.edu/ChromHMM/ChromHMM.zip"
   ],
   "metadata": {
    "colab": {
     "base_uri": "https://localhost:8080/"
    },
    "id": "zCdYYvCJrpRt",
    "outputId": "90f6c3a0-40a1-4b73-8aa1-3435c89b5f4f",
    "pycharm": {
     "name": "#%%\n"
    }
   },
   "execution_count": 4,
   "outputs": [
    {
     "output_type": "stream",
     "name": "stdout",
     "text": [
      "--2024-03-24 18:47:49--  http://compbio.mit.edu/ChromHMM/ChromHMM.zip\n",
      "Resolving compbio.mit.edu (compbio.mit.edu)... 128.52.131.233\n",
      "Connecting to compbio.mit.edu (compbio.mit.edu)|128.52.131.233|:80... connected.\n",
      "HTTP request sent, awaiting response... 301 Moved Permanently\n",
      "Location: https://compbio.mit.edu/ChromHMM/ChromHMM.zip [following]\n",
      "--2024-03-24 18:47:49--  https://compbio.mit.edu/ChromHMM/ChromHMM.zip\n",
      "Connecting to compbio.mit.edu (compbio.mit.edu)|128.52.131.233|:443... connected.\n",
      "HTTP request sent, awaiting response... 200 OK\n",
      "Length: 48974627 (47M) [application/zip]\n",
      "Saving to: ‘ChromHMM.zip’\n",
      "\n",
      "ChromHMM.zip        100%[===================>]  46.71M  49.4MB/s    in 0.9s    \n",
      "\n",
      "2024-03-24 18:47:50 (49.4 MB/s) - ‘ChromHMM.zip’ saved [48974627/48974627]\n",
      "\n"
     ]
    }
   ]
  },
  {
   "cell_type": "code",
   "source": [
    "!unzip /content/ChromHMM.zip"
   ],
   "metadata": {
    "id": "gF4uI2bvvEN2",
    "colab": {
     "base_uri": "https://localhost:8080/"
    },
    "outputId": "3ce8bafc-e296-4e55-fbf6-c0b4845f1a45",
    "pycharm": {
     "name": "#%%\n"
    }
   },
   "execution_count": 5,
   "outputs": [
    {
     "output_type": "stream",
     "name": "stdout",
     "text": [
      "Archive:  /content/ChromHMM.zip\n",
      "   creating: ChromHMM/ANCHORFILES/\n",
      "   creating: ChromHMM/ANCHORFILES/ce10/\n",
      "  inflating: ChromHMM/ANCHORFILES/ce10/RefSeqTES.ce10.txt.gz  \n",
      "  inflating: ChromHMM/ANCHORFILES/ce10/RefSeqTSS.ce10.txt.gz  \n",
      "   creating: ChromHMM/ANCHORFILES/ce11/\n",
      "  inflating: ChromHMM/ANCHORFILES/ce11/RefSeqTES.ce11.txt.gz  \n",
      "  inflating: ChromHMM/ANCHORFILES/ce11/RefSeqTSS.ce11.txt.gz  \n",
      "   creating: ChromHMM/ANCHORFILES/ce6/\n",
      "  inflating: ChromHMM/ANCHORFILES/ce6/RefSeqTES.ce6.txt.gz  \n",
      "  inflating: ChromHMM/ANCHORFILES/ce6/RefSeqTSS.ce6.txt.gz  \n",
      "   creating: ChromHMM/ANCHORFILES/danRer10/\n",
      "  inflating: ChromHMM/ANCHORFILES/danRer10/RefSeqTES.danRer10.txt.gz  \n",
      "  inflating: ChromHMM/ANCHORFILES/danRer10/RefSeqTSS.danRer10.txt.gz  \n",
      "   creating: ChromHMM/ANCHORFILES/danRer11/\n",
      "  inflating: ChromHMM/ANCHORFILES/danRer11/RefSeqTES.danRer11.txt.gz  \n",
      "  inflating: ChromHMM/ANCHORFILES/danRer11/RefSeqTSS.danRer11.txt.gz  \n",
      "   creating: ChromHMM/ANCHORFILES/danRer7/\n",
      "  inflating: ChromHMM/ANCHORFILES/danRer7/RefSeqTES.danRer7.txt.gz  \n",
      "  inflating: ChromHMM/ANCHORFILES/danRer7/RefSeqTSS.danRer7.txt.gz  \n",
      "   creating: ChromHMM/ANCHORFILES/dm3/\n",
      "  inflating: ChromHMM/ANCHORFILES/dm3/RefSeqTES.dm3.txt.gz  \n",
      "  inflating: ChromHMM/ANCHORFILES/dm3/RefSeqTSS.dm3.txt.gz  \n",
      "   creating: ChromHMM/ANCHORFILES/dm6/\n",
      "  inflating: ChromHMM/ANCHORFILES/dm6/RefSeqTES.dm6.txt.gz  \n",
      "  inflating: ChromHMM/ANCHORFILES/dm6/RefSeqTSS.dm6.txt.gz  \n",
      "   creating: ChromHMM/ANCHORFILES/hg18/\n",
      "  inflating: ChromHMM/ANCHORFILES/hg18/RefSeqTES.hg18.txt.gz  \n",
      "  inflating: ChromHMM/ANCHORFILES/hg18/RefSeqTSS.hg18.txt.gz  \n",
      "   creating: ChromHMM/ANCHORFILES/hg19/\n",
      "  inflating: ChromHMM/ANCHORFILES/hg19/RefSeqTES.hg19.txt.gz  \n",
      "  inflating: ChromHMM/ANCHORFILES/hg19/RefSeqTSS.hg19.txt.gz  \n",
      "   creating: ChromHMM/ANCHORFILES/hg38/\n",
      "  inflating: ChromHMM/ANCHORFILES/hg38/RefSeqTES.hg38.txt.gz  \n",
      "  inflating: ChromHMM/ANCHORFILES/hg38/RefSeqTSS.hg38.txt.gz  \n",
      "   creating: ChromHMM/ANCHORFILES/hs1/\n",
      "  inflating: ChromHMM/ANCHORFILES/hs1/RefSeqTES.hs1.txt.gz  \n",
      "  inflating: ChromHMM/ANCHORFILES/hs1/RefSeqTSS.hs1.txt.gz  \n",
      "   creating: ChromHMM/ANCHORFILES/mm10/\n",
      "  inflating: ChromHMM/ANCHORFILES/mm10/RefSeqTES.mm10.txt.gz  \n",
      "  inflating: ChromHMM/ANCHORFILES/mm10/RefSeqTSS.mm10.txt.gz  \n",
      "   creating: ChromHMM/ANCHORFILES/mm39/\n",
      "  inflating: ChromHMM/ANCHORFILES/mm39/RefSeqTES.mm39.txt.gz  \n",
      "  inflating: ChromHMM/ANCHORFILES/mm39/RefSeqTSS.mm39.txt.gz  \n",
      "   creating: ChromHMM/ANCHORFILES/mm9/\n",
      "  inflating: ChromHMM/ANCHORFILES/mm9/RefSeqTES.mm9.txt.gz  \n",
      "  inflating: ChromHMM/ANCHORFILES/mm9/RefSeqTSS.mm9.txt.gz  \n",
      "   creating: ChromHMM/ANCHORFILES/rn5/\n",
      "  inflating: ChromHMM/ANCHORFILES/rn5/RefSeqTES.rn5.txt.gz  \n",
      "  inflating: ChromHMM/ANCHORFILES/rn5/RefSeqTSS.rn5.txt.gz  \n",
      "   creating: ChromHMM/ANCHORFILES/rn6/\n",
      "  inflating: ChromHMM/ANCHORFILES/rn6/RefSeqTES.rn6.txt.gz  \n",
      "  inflating: ChromHMM/ANCHORFILES/rn6/RefSeqTSS.rn6.txt.gz  \n",
      "  inflating: ChromHMM/ChromHMM.jar   \n",
      "  inflating: ChromHMM/ChromHMM_manual.pdf  \n",
      "   creating: ChromHMM/CHROMSIZES/\n",
      "  inflating: ChromHMM/CHROMSIZES/ce10.txt  \n",
      "  inflating: ChromHMM/CHROMSIZES/ce11.txt  \n",
      "  inflating: ChromHMM/CHROMSIZES/ce6.txt  \n",
      "  inflating: ChromHMM/CHROMSIZES/danRer10.txt  \n",
      "  inflating: ChromHMM/CHROMSIZES/danRer11.txt  \n",
      "  inflating: ChromHMM/CHROMSIZES/danRer7.txt  \n",
      "  inflating: ChromHMM/CHROMSIZES/dm3.txt  \n",
      "  inflating: ChromHMM/CHROMSIZES/dm6.txt  \n",
      "  inflating: ChromHMM/CHROMSIZES/hg18.txt  \n",
      "  inflating: ChromHMM/CHROMSIZES/hg19.txt  \n",
      "  inflating: ChromHMM/CHROMSIZES/hg38.txt  \n",
      "  inflating: ChromHMM/CHROMSIZES/hs1.txt  \n",
      "  inflating: ChromHMM/CHROMSIZES/mm10.txt  \n",
      "  inflating: ChromHMM/CHROMSIZES/mm39.txt  \n",
      "  inflating: ChromHMM/CHROMSIZES/mm9.txt  \n",
      "  inflating: ChromHMM/CHROMSIZES/rn5.txt  \n",
      "  inflating: ChromHMM/CHROMSIZES/rn6.txt  \n",
      "   creating: ChromHMM/COORDS/\n",
      "   creating: ChromHMM/COORDS/ce10/\n",
      "  inflating: ChromHMM/COORDS/ce10/RefSeqExon.ce10.bed.gz  \n",
      "  inflating: ChromHMM/COORDS/ce10/RefSeqGene.ce10.bed.gz  \n",
      "  inflating: ChromHMM/COORDS/ce10/RefSeqTES.ce10.bed.gz  \n",
      "  inflating: ChromHMM/COORDS/ce10/RefSeqTSS.ce10.bed.gz  \n",
      "  inflating: ChromHMM/COORDS/ce10/RefSeqTSS2kb.ce10.bed.gz  \n",
      "   creating: ChromHMM/COORDS/ce11/\n",
      "  inflating: ChromHMM/COORDS/ce11/RefSeqExon.ce11.bed.gz  \n",
      "  inflating: ChromHMM/COORDS/ce11/RefSeqGene.ce11.bed.gz  \n",
      "  inflating: ChromHMM/COORDS/ce11/RefSeqTES.ce11.bed.gz  \n",
      "  inflating: ChromHMM/COORDS/ce11/RefSeqTSS.ce11.bed.gz  \n",
      "  inflating: ChromHMM/COORDS/ce11/RefSeqTSS2kb.ce11.bed.gz  \n",
      "   creating: ChromHMM/COORDS/ce6/\n",
      "  inflating: ChromHMM/COORDS/ce6/RefSeqExon.ce6.bed.gz  \n",
      "  inflating: ChromHMM/COORDS/ce6/RefSeqGene.ce6.bed.gz  \n",
      "  inflating: ChromHMM/COORDS/ce6/RefSeqTES.ce6.bed.gz  \n",
      "  inflating: ChromHMM/COORDS/ce6/RefSeqTSS.ce6.bed.gz  \n",
      "  inflating: ChromHMM/COORDS/ce6/RefSeqTSS2kb.ce6.bed.gz  \n",
      "   creating: ChromHMM/COORDS/danRer10/\n",
      "  inflating: ChromHMM/COORDS/danRer10/RefSeqExon.danRer10.bed.gz  \n",
      "  inflating: ChromHMM/COORDS/danRer10/RefSeqGene.danRer10.bed.gz  \n",
      "  inflating: ChromHMM/COORDS/danRer10/RefSeqTES.danRer10.bed.gz  \n",
      "  inflating: ChromHMM/COORDS/danRer10/RefSeqTSS.danRer10.bed.gz  \n",
      "  inflating: ChromHMM/COORDS/danRer10/RefSeqTSS2kb.danRer10.bed.gz  \n",
      "   creating: ChromHMM/COORDS/danRer11/\n",
      "  inflating: ChromHMM/COORDS/danRer11/RefSeqExon.danRer11.bed.gz  \n",
      "  inflating: ChromHMM/COORDS/danRer11/RefSeqGene.danRer11.bed.gz  \n",
      "  inflating: ChromHMM/COORDS/danRer11/RefSeqTES.danRer11.bed.gz  \n",
      "  inflating: ChromHMM/COORDS/danRer11/RefSeqTSS.danRer11.bed.gz  \n",
      "  inflating: ChromHMM/COORDS/danRer11/RefSeqTSS2kb.danRer11.bed.gz  \n",
      "   creating: ChromHMM/COORDS/danRer7/\n",
      "  inflating: ChromHMM/COORDS/danRer7/RefSeqExon.danRer7.bed.gz  \n",
      "  inflating: ChromHMM/COORDS/danRer7/RefSeqGene.danRer7.bed.gz  \n",
      "  inflating: ChromHMM/COORDS/danRer7/RefSeqTES.danRer7.bed.gz  \n",
      "  inflating: ChromHMM/COORDS/danRer7/RefSeqTSS.danRer7.bed.gz  \n",
      "  inflating: ChromHMM/COORDS/danRer7/RefSeqTSS2kb.danRer7.bed.gz  \n",
      "   creating: ChromHMM/COORDS/dm3/\n",
      "  inflating: ChromHMM/COORDS/dm3/RefSeqExon.dm3.bed.gz  \n",
      "  inflating: ChromHMM/COORDS/dm3/RefSeqGene.dm3.bed.gz  \n",
      "  inflating: ChromHMM/COORDS/dm3/RefSeqTES.dm3.bed.gz  \n",
      "  inflating: ChromHMM/COORDS/dm3/RefSeqTSS.dm3.bed.gz  \n",
      "  inflating: ChromHMM/COORDS/dm3/RefSeqTSS2kb.dm3.bed.gz  \n",
      "   creating: ChromHMM/COORDS/dm6/\n",
      "  inflating: ChromHMM/COORDS/dm6/RefSeqExon.dm6.bed.gz  \n",
      "  inflating: ChromHMM/COORDS/dm6/RefSeqGene.dm6.bed.gz  \n",
      "  inflating: ChromHMM/COORDS/dm6/RefSeqTES.dm6.bed.gz  \n",
      "  inflating: ChromHMM/COORDS/dm6/RefSeqTSS.dm6.bed.gz  \n",
      "  inflating: ChromHMM/COORDS/dm6/RefSeqTSS2kb.dm6.bed.gz  \n",
      "   creating: ChromHMM/COORDS/hg18/\n",
      "  inflating: ChromHMM/COORDS/hg18/CpGIsland.hg18.bed.gz  \n",
      " extracting: ChromHMM/COORDS/hg18/laminB1lads.hg18.bed.gz  \n",
      "  inflating: ChromHMM/COORDS/hg18/RefSeqExon.hg18.bed.gz  \n",
      "  inflating: ChromHMM/COORDS/hg18/RefSeqGene.hg18.bed.gz  \n",
      "  inflating: ChromHMM/COORDS/hg18/RefSeqTES.hg18.bed.gz  \n",
      "  inflating: ChromHMM/COORDS/hg18/RefSeqTSS.hg18.bed.gz  \n",
      "  inflating: ChromHMM/COORDS/hg18/RefSeqTSS2kb.hg18.bed.gz  \n",
      "   creating: ChromHMM/COORDS/hg19/\n",
      "  inflating: ChromHMM/COORDS/hg19/CpGIsland.hg19.bed.gz  \n",
      " extracting: ChromHMM/COORDS/hg19/laminB1lads.hg19.bed.gz  \n",
      "  inflating: ChromHMM/COORDS/hg19/RefSeqExon.hg19.bed.gz  \n",
      "  inflating: ChromHMM/COORDS/hg19/RefSeqGene.hg19.bed.gz  \n",
      "  inflating: ChromHMM/COORDS/hg19/RefSeqTES.hg19.bed.gz  \n",
      "  inflating: ChromHMM/COORDS/hg19/RefSeqTSS.hg19.bed.gz  \n",
      "  inflating: ChromHMM/COORDS/hg19/RefSeqTSS2kb.hg19.bed.gz  \n",
      "   creating: ChromHMM/COORDS/hg38/\n",
      "  inflating: ChromHMM/COORDS/hg38/CpGIsland.hg38.bed.gz  \n",
      "  inflating: ChromHMM/COORDS/hg38/RefSeqExon.hg38.bed.gz  \n",
      "  inflating: ChromHMM/COORDS/hg38/RefSeqGene.hg38.bed.gz  \n",
      "  inflating: ChromHMM/COORDS/hg38/RefSeqTES.hg38.bed.gz  \n",
      "  inflating: ChromHMM/COORDS/hg38/RefSeqTSS.hg38.bed.gz  \n",
      "  inflating: ChromHMM/COORDS/hg38/RefSeqTSS2kb.hg38.bed.gz  \n",
      "   creating: ChromHMM/COORDS/hs1/\n",
      "  inflating: ChromHMM/COORDS/hs1/CpGIsland.hs1.bed.gz  \n",
      "  inflating: ChromHMM/COORDS/hs1/RefSeqExon.hs1.bed.gz  \n",
      "  inflating: ChromHMM/COORDS/hs1/RefSeqGene.hs1.bed.gz  \n",
      "  inflating: ChromHMM/COORDS/hs1/RefSeqTES.hs1.bed.gz  \n",
      "  inflating: ChromHMM/COORDS/hs1/RefSeqTSS.hs1.bed.gz  \n",
      "  inflating: ChromHMM/COORDS/hs1/RefSeqTSS2kb.hs1.bed.gz  \n",
      "   creating: ChromHMM/COORDS/mm10/\n",
      "  inflating: ChromHMM/COORDS/mm10/CpGIsland.mm10.bed.gz  \n",
      "  inflating: ChromHMM/COORDS/mm10/RefSeqExon.mm10.bed.gz  \n",
      "  inflating: ChromHMM/COORDS/mm10/RefSeqGene.mm10.bed.gz  \n",
      "  inflating: ChromHMM/COORDS/mm10/RefSeqTES.mm10.bed.gz  \n",
      "  inflating: ChromHMM/COORDS/mm10/RefSeqTSS.mm10.bed.gz  \n",
      "  inflating: ChromHMM/COORDS/mm10/RefSeqTSS2kb.mm10.bed.gz  \n",
      "   creating: ChromHMM/COORDS/mm39/\n",
      "  inflating: ChromHMM/COORDS/mm39/CpGIsland.mm39.bed.gz  \n",
      "  inflating: ChromHMM/COORDS/mm39/RefSeqExon.mm39.bed.gz  \n",
      "  inflating: ChromHMM/COORDS/mm39/RefSeqGene.mm39.bed.gz  \n",
      "  inflating: ChromHMM/COORDS/mm39/RefSeqTES.mm39.bed.gz  \n",
      "  inflating: ChromHMM/COORDS/mm39/RefSeqTSS.mm39.bed.gz  \n",
      "  inflating: ChromHMM/COORDS/mm39/RefSeqTSS2kb.mm39.bed.gz  \n",
      "   creating: ChromHMM/COORDS/mm9/\n",
      "  inflating: ChromHMM/COORDS/mm9/CpGIsland.mm9.bed.gz  \n",
      "  inflating: ChromHMM/COORDS/mm9/RefSeqExon.mm9.bed.gz  \n",
      "  inflating: ChromHMM/COORDS/mm9/RefSeqGene.mm9.bed.gz  \n",
      "  inflating: ChromHMM/COORDS/mm9/RefSeqTES.mm9.bed.gz  \n",
      "  inflating: ChromHMM/COORDS/mm9/RefSeqTSS.mm9.bed.gz  \n",
      "  inflating: ChromHMM/COORDS/mm9/RefSeqTSS2kb.mm9.bed.gz  \n",
      "   creating: ChromHMM/COORDS/rn5/\n",
      "  inflating: ChromHMM/COORDS/rn5/CpGIsland.rn5.bed.gz  \n",
      "  inflating: ChromHMM/COORDS/rn5/RefSeqExon.rn5.bed.gz  \n",
      "  inflating: ChromHMM/COORDS/rn5/RefSeqGene.rn5.bed.gz  \n",
      "  inflating: ChromHMM/COORDS/rn5/RefSeqTES.rn5.bed.gz  \n",
      "  inflating: ChromHMM/COORDS/rn5/RefSeqTSS.rn5.bed.gz  \n",
      "  inflating: ChromHMM/COORDS/rn5/RefSeqTSS2kb.rn5.bed.gz  \n",
      "   creating: ChromHMM/COORDS/rn6/\n",
      "  inflating: ChromHMM/COORDS/rn6/CpGIsland.rn6.bed.gz  \n",
      "  inflating: ChromHMM/COORDS/rn6/RefSeqExon.rn6.bed.gz  \n",
      "  inflating: ChromHMM/COORDS/rn6/RefSeqGene.rn6.bed.gz  \n",
      "  inflating: ChromHMM/COORDS/rn6/RefSeqTES.rn6.bed.gz  \n",
      "  inflating: ChromHMM/COORDS/rn6/RefSeqTSS.rn6.bed.gz  \n",
      "  inflating: ChromHMM/COORDS/rn6/RefSeqTSS2kb.rn6.bed.gz  \n",
      "   creating: ChromHMM/SAMPLEDATA_HG18/\n",
      "  inflating: ChromHMM/SAMPLEDATA_HG18/GM12878_chr11_binary.txt.gz  \n",
      "  inflating: ChromHMM/SAMPLEDATA_HG18/K562_chr11_binary.txt.gz  \n",
      "   creating: ChromHMM/SRC/\n",
      "   creating: ChromHMM/SRC/edu/\n",
      "   creating: ChromHMM/SRC/edu/mit/\n",
      "   creating: ChromHMM/SRC/edu/mit/compbio/\n",
      "   creating: ChromHMM/SRC/edu/mit/compbio/ChromHMM/\n",
      "  inflating: ChromHMM/SRC/edu/mit/compbio/ChromHMM/BrowserOutput.java  \n",
      "  inflating: ChromHMM/SRC/edu/mit/compbio/ChromHMM/ChromHMM.java  \n",
      "  inflating: ChromHMM/SRC/edu/mit/compbio/ChromHMM/ConvertGeneTable.java  \n",
      "  inflating: ChromHMM/SRC/edu/mit/compbio/ChromHMM/NestedEliminateInitialize.java  \n",
      "  inflating: ChromHMM/SRC/edu/mit/compbio/ChromHMM/Preprocessing.java  \n",
      "  inflating: ChromHMM/SRC/edu/mit/compbio/ChromHMM/StateAnalysis.java  \n",
      "  inflating: ChromHMM/SRC/edu/mit/compbio/ChromHMM/Util.java  \n",
      "   creating: ChromHMM/SRC/org/\n",
      "   creating: ChromHMM/SRC/org/tc33/\n",
      "   creating: ChromHMM/SRC/org/tc33/jheatchart/\n",
      "  inflating: ChromHMM/SRC/org/tc33/jheatchart/HeatChart.java  \n",
      "  inflating: ChromHMM/versionlog.txt  \n"
     ]
    }
   ]
  },
  {
   "cell_type": "markdown",
   "source": [
    "## Скачиваем файлы"
   ],
   "metadata": {
    "id": "k80uGrS5quq1",
    "pycharm": {
     "name": "#%% md\n"
    }
   }
  },
  {
   "cell_type": "code",
   "source": [
    "!wget http://hgdownload.cse.ucsc.edu/goldenPath/hg19/encodeDCC/wgEncodeBroadHistone/wgEncodeBroadHistoneA549H3k27acDex100nmAlnRep1.bam -O H3K27ac.bam\n",
    "!wget http://hgdownload.cse.ucsc.edu/goldenPath/hg19/encodeDCC/wgEncodeBroadHistone/wgEncodeBroadHistoneA549H3k27me3Dex100nmAlnRep1.bam -O H3K27me3.bam\n",
    "!wget http://hgdownload.cse.ucsc.edu/goldenPath/hg19/encodeDCC/wgEncodeBroadHistone/wgEncodeBroadHistoneA549H3k36me3Dex100nmAlnRep1.bam -O H3K36me3.bam\n",
    "!wget http://hgdownload.cse.ucsc.edu/goldenPath/hg19/encodeDCC/wgEncodeBroadHistone/wgEncodeBroadHistoneA549H3k04me1Dex100nmAlnRep1.bam -O H3K4me1.bam\n",
    "!wget http://hgdownload.cse.ucsc.edu/goldenPath/hg19/encodeDCC/wgEncodeBroadHistone/wgEncodeBroadHistoneA549H3k04me2Dex100nmAlnRep1.bam -O H3K4me2.bam\n",
    "!wget http://hgdownload.cse.ucsc.edu/goldenPath/hg19/encodeDCC/wgEncodeBroadHistone/wgEncodeBroadHistoneA549H3k04me3Dex100nmAlnRep1.bam -O H3K4me3.bam\n",
    "!wget http://hgdownload.cse.ucsc.edu/goldenPath/hg19/encodeDCC/wgEncodeBroadHistone/wgEncodeBroadHistoneA549H3k79me2Dex100nmAlnRep1.bam -O H3K79me2.bam\n",
    "!wget http://hgdownload.cse.ucsc.edu/goldenPath/hg19/encodeDCC/wgEncodeBroadHistone/wgEncodeBroadHistoneA549H3k09acEtoh02AlnRep1.bam -O H3K9ac.bam\n",
    "!wget http://hgdownload.cse.ucsc.edu/goldenPath/hg19/encodeDCC/wgEncodeBroadHistone/wgEncodeBroadHistoneA549H3k09me3Etoh02AlnRep1.bam -O H3K9me3.bam\n",
    "!wget http://hgdownload.cse.ucsc.edu/goldenPath/hg19/encodeDCC/wgEncodeBroadHistone/wgEncodeBroadHistoneA549H4k20me1Etoh02AlnRep1.bam -O H4K20me1.bam"
   ],
   "metadata": {
    "colab": {
     "base_uri": "https://localhost:8080/"
    },
    "id": "njfRKZpF7V6v",
    "outputId": "98f902bd-b9b8-4caf-d387-92d81ff45f70",
    "pycharm": {
     "name": "#%%\n"
    }
   },
   "execution_count": 6,
   "outputs": [
    {
     "output_type": "stream",
     "name": "stdout",
     "text": [
      "--2024-03-24 19:28:15--  http://hgdownload.cse.ucsc.edu/goldenPath/hg19/encodeDCC/wgEncodeBroadHistone/wgEncodeBroadHistoneA549H3k27acDex100nmAlnRep1.bam\n",
      "Resolving hgdownload.cse.ucsc.edu (hgdownload.cse.ucsc.edu)... 128.114.198.53\n",
      "Connecting to hgdownload.cse.ucsc.edu (hgdownload.cse.ucsc.edu)|128.114.198.53|:80... connected.\n",
      "HTTP request sent, awaiting response... 200 OK\n",
      "Length: 1613138298 (1.5G) [application/octet-stream]\n",
      "Saving to: ‘H3K27ac.bam’\n",
      "\n",
      "H3K27ac.bam         100%[===================>]   1.50G  54.0MB/s    in 29s     \n",
      "\n",
      "2024-03-24 19:28:45 (52.8 MB/s) - ‘H3K27ac.bam’ saved [1613138298/1613138298]\n",
      "\n",
      "--2024-03-24 19:28:45--  http://hgdownload.cse.ucsc.edu/goldenPath/hg19/encodeDCC/wgEncodeBroadHistone/wgEncodeBroadHistoneA549H3k27me3Dex100nmAlnRep1.bam\n",
      "Resolving hgdownload.cse.ucsc.edu (hgdownload.cse.ucsc.edu)... 128.114.198.53\n",
      "Connecting to hgdownload.cse.ucsc.edu (hgdownload.cse.ucsc.edu)|128.114.198.53|:80... connected.\n",
      "HTTP request sent, awaiting response... 200 OK\n",
      "Length: 1204886525 (1.1G) [application/octet-stream]\n",
      "Saving to: ‘H3K27me3.bam’\n",
      "\n",
      "H3K27me3.bam        100%[===================>]   1.12G  54.1MB/s    in 22s     \n",
      "\n",
      "2024-03-24 19:29:07 (53.3 MB/s) - ‘H3K27me3.bam’ saved [1204886525/1204886525]\n",
      "\n",
      "--2024-03-24 19:29:07--  http://hgdownload.cse.ucsc.edu/goldenPath/hg19/encodeDCC/wgEncodeBroadHistone/wgEncodeBroadHistoneA549H3k36me3Dex100nmAlnRep1.bam\n",
      "Resolving hgdownload.cse.ucsc.edu (hgdownload.cse.ucsc.edu)... 128.114.198.53\n",
      "Connecting to hgdownload.cse.ucsc.edu (hgdownload.cse.ucsc.edu)|128.114.198.53|:80... connected.\n",
      "HTTP request sent, awaiting response... 200 OK\n",
      "Length: 1171206285 (1.1G) [application/octet-stream]\n",
      "Saving to: ‘H3K36me3.bam’\n",
      "\n",
      "H3K36me3.bam        100%[===================>]   1.09G  54.0MB/s    in 22s     \n",
      "\n",
      "2024-03-24 19:29:29 (51.8 MB/s) - ‘H3K36me3.bam’ saved [1171206285/1171206285]\n",
      "\n",
      "--2024-03-24 19:29:29--  http://hgdownload.cse.ucsc.edu/goldenPath/hg19/encodeDCC/wgEncodeBroadHistone/wgEncodeBroadHistoneA549H3k04me1Dex100nmAlnRep1.bam\n",
      "Resolving hgdownload.cse.ucsc.edu (hgdownload.cse.ucsc.edu)... 128.114.198.53\n",
      "Connecting to hgdownload.cse.ucsc.edu (hgdownload.cse.ucsc.edu)|128.114.198.53|:80... connected.\n",
      "HTTP request sent, awaiting response... 200 OK\n",
      "Length: 1457394253 (1.4G) [application/octet-stream]\n",
      "Saving to: ‘H3K4me1.bam’\n",
      "\n",
      "H3K4me1.bam         100%[===================>]   1.36G  53.4MB/s    in 27s     \n",
      "\n",
      "2024-03-24 19:29:56 (52.2 MB/s) - ‘H3K4me1.bam’ saved [1457394253/1457394253]\n",
      "\n",
      "--2024-03-24 19:29:56--  http://hgdownload.cse.ucsc.edu/goldenPath/hg19/encodeDCC/wgEncodeBroadHistone/wgEncodeBroadHistoneA549H3k04me2Dex100nmAlnRep1.bam\n",
      "Resolving hgdownload.cse.ucsc.edu (hgdownload.cse.ucsc.edu)... 128.114.198.53\n",
      "Connecting to hgdownload.cse.ucsc.edu (hgdownload.cse.ucsc.edu)|128.114.198.53|:80... connected.\n",
      "HTTP request sent, awaiting response... 200 OK\n",
      "Length: 1087535456 (1.0G) [application/octet-stream]\n",
      "Saving to: ‘H3K4me2.bam’\n",
      "\n",
      "H3K4me2.bam         100%[===================>]   1.01G  53.8MB/s    in 20s     \n",
      "\n",
      "2024-03-24 19:30:16 (52.1 MB/s) - ‘H3K4me2.bam’ saved [1087535456/1087535456]\n",
      "\n",
      "--2024-03-24 19:30:16--  http://hgdownload.cse.ucsc.edu/goldenPath/hg19/encodeDCC/wgEncodeBroadHistone/wgEncodeBroadHistoneA549H3k04me3Dex100nmAlnRep1.bam\n",
      "Resolving hgdownload.cse.ucsc.edu (hgdownload.cse.ucsc.edu)... 128.114.198.53\n",
      "Connecting to hgdownload.cse.ucsc.edu (hgdownload.cse.ucsc.edu)|128.114.198.53|:80... connected.\n",
      "HTTP request sent, awaiting response... 200 OK\n",
      "Length: 1107774312 (1.0G) [application/octet-stream]\n",
      "Saving to: ‘H3K4me3.bam’\n",
      "\n",
      "H3K4me3.bam         100%[===================>]   1.03G  54.1MB/s    in 20s     \n",
      "\n",
      "2024-03-24 19:30:37 (52.3 MB/s) - ‘H3K4me3.bam’ saved [1107774312/1107774312]\n",
      "\n",
      "--2024-03-24 19:30:37--  http://hgdownload.cse.ucsc.edu/goldenPath/hg19/encodeDCC/wgEncodeBroadHistone/wgEncodeBroadHistoneA549H3k79me2Dex100nmAlnRep1.bam\n",
      "Resolving hgdownload.cse.ucsc.edu (hgdownload.cse.ucsc.edu)... 128.114.198.53\n",
      "Connecting to hgdownload.cse.ucsc.edu (hgdownload.cse.ucsc.edu)|128.114.198.53|:80... connected.\n",
      "HTTP request sent, awaiting response... 200 OK\n",
      "Length: 964729136 (920M) [application/octet-stream]\n",
      "Saving to: ‘H3K79me2.bam’\n",
      "\n",
      "H3K79me2.bam        100%[===================>] 920.04M  49.3MB/s    in 18s     \n",
      "\n",
      "2024-03-24 19:30:55 (51.9 MB/s) - ‘H3K79me2.bam’ saved [964729136/964729136]\n",
      "\n",
      "--2024-03-24 19:30:55--  http://hgdownload.cse.ucsc.edu/goldenPath/hg19/encodeDCC/wgEncodeBroadHistone/wgEncodeBroadHistoneA549H3k09acEtoh02AlnRep1.bam\n",
      "Resolving hgdownload.cse.ucsc.edu (hgdownload.cse.ucsc.edu)... 128.114.198.53\n",
      "Connecting to hgdownload.cse.ucsc.edu (hgdownload.cse.ucsc.edu)|128.114.198.53|:80... connected.\n",
      "HTTP request sent, awaiting response... 200 OK\n",
      "Length: 1805271664 (1.7G) [application/octet-stream]\n",
      "Saving to: ‘H3K9ac.bam’\n",
      "\n",
      "H3K9ac.bam          100%[===================>]   1.68G  54.2MB/s    in 33s     \n",
      "\n",
      "2024-03-24 19:31:28 (52.9 MB/s) - ‘H3K9ac.bam’ saved [1805271664/1805271664]\n",
      "\n",
      "--2024-03-24 19:31:28--  http://hgdownload.cse.ucsc.edu/goldenPath/hg19/encodeDCC/wgEncodeBroadHistone/wgEncodeBroadHistoneA549H3k09me3Etoh02AlnRep1.bam\n",
      "Resolving hgdownload.cse.ucsc.edu (hgdownload.cse.ucsc.edu)... 128.114.198.53\n",
      "Connecting to hgdownload.cse.ucsc.edu (hgdownload.cse.ucsc.edu)|128.114.198.53|:80... connected.\n",
      "HTTP request sent, awaiting response... 200 OK\n",
      "Length: 3159610200 (2.9G) [application/octet-stream]\n",
      "Saving to: ‘H3K9me3.bam’\n",
      "\n",
      "H3K9me3.bam         100%[===================>]   2.94G  53.8MB/s    in 58s     \n",
      "\n",
      "2024-03-24 19:32:26 (52.2 MB/s) - ‘H3K9me3.bam’ saved [3159610200/3159610200]\n",
      "\n",
      "--2024-03-24 19:32:26--  http://hgdownload.cse.ucsc.edu/goldenPath/hg19/encodeDCC/wgEncodeBroadHistone/wgEncodeBroadHistoneA549H4k20me1Etoh02AlnRep1.bam\n",
      "Resolving hgdownload.cse.ucsc.edu (hgdownload.cse.ucsc.edu)... 128.114.198.53\n",
      "Connecting to hgdownload.cse.ucsc.edu (hgdownload.cse.ucsc.edu)|128.114.198.53|:80... connected.\n",
      "HTTP request sent, awaiting response... 200 OK\n",
      "Length: 1494698977 (1.4G) [application/octet-stream]\n",
      "Saving to: ‘H4K20me1.bam’\n",
      "\n",
      "H4K20me1.bam        100%[===================>]   1.39G  54.1MB/s    in 27s     \n",
      "\n",
      "2024-03-24 19:32:54 (52.0 MB/s) - ‘H4K20me1.bam’ saved [1494698977/1494698977]\n",
      "\n"
     ]
    }
   ]
  },
  {
   "cell_type": "code",
   "source": [
    "!wget http://hgdownload.cse.ucsc.edu/goldenPath/hg19/encodeDCC/wgEncodeBroadHistone/wgEncodeBroadHistoneA549ControlDex100nmAlnRep1.bam -O ControlDex100AlnRep1.bam"
   ],
   "metadata": {
    "colab": {
     "base_uri": "https://localhost:8080/"
    },
    "id": "w99XvGm78B72",
    "outputId": "2f6597b6-76bc-4086-e267-3de26bfe4c64",
    "pycharm": {
     "name": "#%%\n"
    }
   },
   "execution_count": 7,
   "outputs": [
    {
     "output_type": "stream",
     "name": "stdout",
     "text": [
      "--2024-03-24 19:32:54--  http://hgdownload.cse.ucsc.edu/goldenPath/hg19/encodeDCC/wgEncodeBroadHistone/wgEncodeBroadHistoneA549ControlDex100nmAlnRep1.bam\n",
      "Resolving hgdownload.cse.ucsc.edu (hgdownload.cse.ucsc.edu)... 128.114.198.53\n",
      "Connecting to hgdownload.cse.ucsc.edu (hgdownload.cse.ucsc.edu)|128.114.198.53|:80... connected.\n",
      "HTTP request sent, awaiting response... 200 OK\n",
      "Length: 1331192042 (1.2G) [application/octet-stream]\n",
      "Saving to: ‘ControlDex100AlnRep1.bam’\n",
      "\n",
      "ControlDex100AlnRep 100%[===================>]   1.24G  49.3MB/s    in 24s     \n",
      "\n",
      "2024-03-24 19:33:19 (52.3 MB/s) - ‘ControlDex100AlnRep1.bam’ saved [1331192042/1331192042]\n",
      "\n"
     ]
    }
   ]
  },
  {
   "cell_type": "markdown",
   "source": [
    "* Вручную создаем текстовый файл cellmarkfiletable.txt, в котором указываем название типа клеток, разных гистоновых меток, а также соответствующие .bam файлы для эксперимента и контроля. Один и тот же контрольный файл .bam может быть использован для всех экспериментов.\n",
    "\n",
    "* Более подробно о содержании файла cellmarkfiletable.txt можно посмотреть в руководстве пользователя ChromHMM\n",
    "\n",
    "* Файл cellmarkfiletable.txt добавляем в github репозиторий для отчета"
   ],
   "metadata": {
    "id": "asjMJ26h79SY",
    "pycharm": {
     "name": "#%% md\n"
    }
   }
  },
  {
   "cell_type": "code",
   "source": [
    "import os"
   ],
   "metadata": {
    "id": "9pEtXhmK81rB",
    "pycharm": {
     "name": "#%%\n"
    }
   },
   "execution_count": 8,
   "outputs": []
  },
  {
   "cell_type": "code",
   "source": [
    "with open('cellmarkfiletable.txt', 'w') as cellmarkfiletable_file:\n",
    "  for file in os.listdir():\n",
    "    if file[-3:] == 'bam' and \"Control\" not in file:\n",
    "      cellmarkfiletable_file.write(f'A549\\t{file[:-4]}\\t{file}\\tControlDex100AlnRep1.bam\\n')"
   ],
   "metadata": {
    "id": "A5qoEUz68z4B",
    "pycharm": {
     "name": "#%%\n"
    }
   },
   "execution_count": 9,
   "outputs": []
  },
  {
   "cell_type": "markdown",
   "source": [
    "Запускаем ChromHMM с опцией BinarizeBam, чтобы конвертировать профили из ChIP-seq экспериментов (bam-файлы) в табличку из 0 и 1, т.е. чтобы сделать разбивку генома на условные интервалы (бины) длиной 200 п.о.\n",
    "Для 11 меток программа работает около 5 мин\n"
   ],
   "metadata": {
    "id": "WeoRL3rp728b",
    "pycharm": {
     "name": "#%% md\n"
    }
   }
  },
  {
   "cell_type": "code",
   "source": [
    "!java -mx5000M -jar /content/ChromHMM/ChromHMM.jar BinarizeBam -b 200  /content/ChromHMM/CHROMSIZES/hg19.txt /content/ cellmarkfiletable.txt   binarizedData\n"
   ],
   "metadata": {
    "colab": {
     "base_uri": "https://localhost:8080/"
    },
    "id": "GcVBvuQZfzb8",
    "outputId": "1feb6475-83cc-48ae-8d71-f98cd428bfeb",
    "pycharm": {
     "name": "#%%\n"
    }
   },
   "execution_count": 10,
   "outputs": [
    {
     "output_type": "stream",
     "name": "stdout",
     "text": [
      "Writing to file binarizedData/A549_chr1_binary.txt\n",
      "Writing to file binarizedData/A549_chr2_binary.txt\n",
      "Writing to file binarizedData/A549_chr3_binary.txt\n",
      "Writing to file binarizedData/A549_chr4_binary.txt\n",
      "Writing to file binarizedData/A549_chr5_binary.txt\n",
      "Writing to file binarizedData/A549_chr6_binary.txt\n",
      "Writing to file binarizedData/A549_chr7_binary.txt\n",
      "Writing to file binarizedData/A549_chrX_binary.txt\n",
      "Writing to file binarizedData/A549_chr8_binary.txt\n",
      "Writing to file binarizedData/A549_chr9_binary.txt\n",
      "Writing to file binarizedData/A549_chr10_binary.txt\n",
      "Writing to file binarizedData/A549_chr11_binary.txt\n",
      "Writing to file binarizedData/A549_chr12_binary.txt\n",
      "Writing to file binarizedData/A549_chr13_binary.txt\n",
      "Writing to file binarizedData/A549_chr14_binary.txt\n",
      "Writing to file binarizedData/A549_chr15_binary.txt\n",
      "Writing to file binarizedData/A549_chr16_binary.txt\n",
      "Writing to file binarizedData/A549_chr17_binary.txt\n",
      "Writing to file binarizedData/A549_chr18_binary.txt\n",
      "Writing to file binarizedData/A549_chr20_binary.txt\n",
      "Writing to file binarizedData/A549_chrY_binary.txt\n",
      "Writing to file binarizedData/A549_chr19_binary.txt\n",
      "Writing to file binarizedData/A549_chr22_binary.txt\n",
      "Writing to file binarizedData/A549_chr21_binary.txt\n",
      "Writing to file binarizedData/A549_chrM_binary.txt\n"
     ]
    }
   ]
  },
  {
   "cell_type": "markdown",
   "source": [
    "Запускаем ChromHMM с опцией LearnModel (см. руководство пользователя), которая автоматически определит параметры N разных эпигенетических типов с наиболее выраженными наборами гистоновых меток и присвоит каждому геномному интервалу определенный эпигенетический тип. Количество разных эпигенетических типов (или состояний) выбираете сами (например 10 штук).\n",
    "Не забудьте, что мы работаем с версией референсного генома человека hg19\n",
    "Для 11 меток программа работает около 10 минут\n"
   ],
   "metadata": {
    "id": "Yo11TtNG8SXU",
    "pycharm": {
     "name": "#%% md\n"
    }
   }
  },
  {
   "cell_type": "code",
   "source": [
    "!java -mx5000M -jar /content/ChromHMM/ChromHMM.jar LearnModel -b 200 /content/binarizedData/ /content/data 15 hg19"
   ],
   "metadata": {
    "colab": {
     "base_uri": "https://localhost:8080/"
    },
    "id": "jP8kBqEi9tBk",
    "outputId": "29873436-16fe-42fc-970f-45436dc95277",
    "pycharm": {
     "name": "#%%\n"
    }
   },
   "execution_count": 13,
   "outputs": [
    {
     "output_type": "stream",
     "name": "stdout",
     "text": [
      "Writing to file /content/data/transitions_15.txt\n",
      "Writing to file /content/data/emissions_15.txt\n",
      "Writing to file /content/data/emissions_15.svg\n",
      "Writing to file /content/data/emissions_15.png\n",
      "Writing to file /content/data/transitions_15.png\n",
      "Writing to file /content/data/transitions_15.svg\n",
      "Writing to file /content/data/model_15.txt\n",
      " Iteration  Estimated Log Likelihood     Change    Total Time (secs)\n",
      "         1             -11824747.261          -                 15.1\n",
      "         2             -10109169.779 1715577.482                 30.3\n",
      "         3              -9658984.956 450184.824                 44.8\n",
      "         4              -9435565.212 223419.744                 56.5\n",
      "         5              -9341831.714  93733.497                 68.2\n",
      "         6              -9307841.253  33990.461                 80.0\n",
      "         7              -9295257.958  12583.295                 94.4\n",
      "         8              -9290052.592   5205.366                106.4\n",
      "         9              -9287596.004   2456.588                118.5\n",
      "        10              -9286275.685   1320.319                134.1\n",
      "        11              -9285476.889    798.795                146.5\n",
      "        12              -9284937.643    539.246                159.0\n",
      "        13              -9284533.349    404.295                171.4\n",
      "        14              -9284200.368    332.981                184.0\n",
      "        15              -9283901.222    299.146                196.9\n",
      "        16              -9283609.357    291.865                209.2\n",
      "        17              -9283306.050    303.307                221.4\n",
      "        18              -9282969.225    336.825                233.6\n",
      "        19              -9282551.357    417.868                245.8\n",
      "        20              -9281904.137    647.220                258.0\n",
      "        21              -9280803.712   1100.426                270.1\n",
      "        22              -9279147.516   1656.196                282.3\n",
      "        23              -9277305.585   1841.931                294.5\n",
      "        24              -9275678.881   1626.704                306.7\n",
      "        25              -9274390.016   1288.865                318.9\n",
      "        26              -9273405.014    985.002                331.1\n",
      "        27              -9272651.551    753.463                343.3\n",
      "        28              -9272067.991    583.560                355.4\n",
      "        29              -9271604.615    463.376                367.6\n",
      "        30              -9271224.208    380.407                379.8\n",
      "        31              -9270899.814    324.394                391.9\n",
      "        32              -9270612.334    287.481                404.1\n",
      "        33              -9270348.116    264.218                416.3\n",
      "        34              -9270096.928    251.188                428.4\n",
      "        35              -9269851.291    245.637                440.5\n",
      "        36              -9269606.073    245.218                452.7\n",
      "        37              -9269356.731    249.342                464.9\n",
      "        38              -9269095.627    261.103                477.1\n",
      "        39              -9268808.510    287.117                489.3\n",
      "        40              -9268476.658    331.852                501.5\n",
      "        41              -9268081.012    395.646                513.7\n",
      "        42              -9267604.110    476.902                525.8\n",
      "        43              -9267057.090    547.020                540.9\n",
      "        44              -9266460.249    596.841                553.1\n",
      "        45              -9265746.177    714.072                565.2\n",
      "        46              -9264614.258   1131.919                577.4\n",
      "        47              -9262248.342   2365.916                589.5\n",
      "        48              -9256944.469   5303.873                601.7\n",
      "        49              -9247942.422   9002.047                613.9\n",
      "        50              -9238223.980   9718.442                626.0\n",
      "        51              -9230296.861   7927.119                638.3\n",
      "        52              -9226705.619   3591.241                650.7\n",
      "        53              -9225395.026   1310.594                663.1\n",
      "        54              -9224773.986    621.040                675.5\n",
      "        55              -9224430.837    343.149                687.9\n",
      "        56              -9224222.222    208.615                700.4\n",
      "        57              -9224086.853    135.370                712.8\n",
      "        58              -9223993.770     93.082                725.2\n",
      "        59              -9223925.482     68.288                737.7\n",
      "        60              -9223871.391     54.091                750.1\n",
      "        61              -9223824.857     46.534                762.4\n",
      "        62              -9223781.812     43.045                774.7\n",
      "        63              -9223740.108     41.704                787.2\n",
      "        64              -9223699.112     40.996                799.5\n",
      "        65              -9223659.295     39.817                811.8\n",
      "        66              -9223621.711     37.584                824.2\n",
      "        67              -9223587.443     34.268                836.7\n",
      "        68              -9223557.204     30.239                849.0\n",
      "        69              -9223531.198     26.006                861.3\n",
      "        70              -9223509.199     21.999                873.6\n",
      "        71              -9223490.743     18.456                886.7\n",
      "        72              -9223475.296     15.447                899.8\n",
      "        73              -9223462.351     12.945                912.6\n",
      "        74              -9223451.474     10.877                925.4\n",
      "        75              -9223442.308      9.166                938.6\n",
      "        76              -9223434.562      7.746                951.1\n",
      "        77              -9223427.994      6.568                964.3\n",
      "        78              -9223422.416      5.578                977.6\n",
      "        79              -9223417.663      4.754                991.1\n",
      "        80              -9223413.599      4.064               1004.3\n",
      "        81              -9223410.115      3.484               1017.3\n",
      "        82              -9223407.117      2.998               1029.8\n",
      "        83              -9223404.528      2.588               1043.2\n",
      "        84              -9223402.286      2.242               1055.7\n",
      "        85              -9223400.336      1.950               1068.7\n",
      "        86              -9223398.635      1.701               1081.5\n",
      "        87              -9223397.146      1.490               1094.4\n",
      "        88              -9223395.838      1.308               1107.4\n",
      "        89              -9223394.684      1.153               1120.5\n",
      "        90              -9223393.666      1.019               1133.4\n",
      "        91              -9223392.762      0.904               1145.8\n",
      "        92              -9223391.958      0.803               1158.3\n",
      "        93              -9223391.242      0.716               1171.5\n",
      "        94              -9223390.602      0.640               1184.2\n",
      "        95              -9223390.028      0.574               1197.0\n",
      "        96              -9223389.512      0.516               1210.1\n",
      "        97              -9223389.049      0.463               1222.9\n",
      "        98              -9223388.631      0.418               1236.3\n",
      "        99              -9223388.252      0.378               1248.9\n",
      "       100              -9223387.910      0.342               1261.5\n",
      "       101              -9223387.599      0.311               1273.7\n",
      "       102              -9223387.317      0.282               1286.0\n",
      "       103              -9223387.060      0.257               1298.3\n",
      "       104              -9223386.826      0.234               1310.5\n",
      "       105              -9223386.612      0.214               1322.8\n",
      "       106              -9223386.417      0.196               1335.0\n",
      "       107              -9223386.238      0.179               1347.3\n",
      "       108              -9223386.073      0.164               1359.6\n",
      "       109              -9223385.923      0.151               1371.8\n",
      "       110              -9223385.784      0.138               1384.1\n",
      "       111              -9223385.657      0.127               1396.3\n",
      "       112              -9223385.539      0.117               1408.8\n",
      "       113              -9223385.431      0.108               1421.1\n",
      "       114              -9223385.331      0.100               1433.3\n",
      "       115              -9223385.239      0.092               1445.5\n",
      "       116              -9223385.153      0.086               1457.7\n",
      "       117              -9223385.074      0.079               1469.9\n",
      "       118              -9223385.000      0.073               1482.2\n",
      "       119              -9223384.932      0.068               1494.4\n",
      "       120              -9223384.869      0.063               1506.6\n",
      "       121              -9223384.810      0.059               1518.8\n",
      "       122              -9223384.756      0.054               1531.1\n",
      "       123              -9223384.705      0.051               1543.3\n",
      "       124              -9223384.657      0.048               1555.6\n",
      "       125              -9223384.613      0.044               1567.8\n",
      "       126              -9223384.572      0.041               1580.1\n",
      "       127              -9223384.534      0.038               1592.4\n",
      "       128              -9223384.498      0.036               1604.7\n",
      "       129              -9223384.464      0.033               1617.0\n",
      "       130              -9223384.433      0.032               1629.3\n",
      "       131              -9223384.403      0.029               1641.6\n",
      "       132              -9223384.376      0.027               1653.8\n",
      "       133              -9223384.350      0.026               1666.1\n",
      "       134              -9223384.326      0.024               1678.4\n",
      "       135              -9223384.304      0.022               1690.7\n",
      "       136              -9223384.282      0.021               1703.0\n",
      "       137              -9223384.263      0.020               1715.2\n",
      "       138              -9223384.244      0.019               1727.5\n",
      "       139              -9223384.226      0.018               1739.8\n",
      "       140              -9223384.210      0.017               1752.1\n",
      "       141              -9223384.194      0.016               1764.4\n",
      "       142              -9223384.180      0.014               1776.7\n",
      "       143              -9223384.166      0.014               1789.0\n",
      "       144              -9223384.153      0.013               1801.3\n",
      "       145              -9223384.141      0.012               1813.5\n",
      "       146              -9223384.129      0.012               1825.8\n",
      "       147              -9223384.118      0.011               1838.0\n",
      "       148              -9223384.108      0.010               1850.3\n",
      "       149              -9223384.099      0.010               1862.6\n",
      "       150              -9223384.090      0.009               1874.9\n",
      "       151              -9223384.081      0.009               1887.2\n",
      "       152              -9223384.073      0.008               1899.4\n",
      "       153              -9223384.065      0.008               1911.7\n",
      "       154              -9223384.058      0.008               1923.9\n",
      "       155              -9223384.051      0.007               1936.0\n",
      "       156              -9223384.044      0.006               1948.2\n",
      "       157              -9223384.038      0.007               1960.4\n",
      "       158              -9223384.032      0.006               1972.6\n",
      "       159              -9223384.026      0.006               1984.8\n",
      "       160              -9223384.020      0.006               1996.9\n",
      "       161              -9223384.015      0.006               2009.1\n",
      "       162              -9223384.010      0.005               2021.3\n",
      "       163              -9223384.010     -0.001               2033.6\n",
      "Writing to file /content/data/A549_15_segments.bed\n",
      "Writing to file /content/data/A549_15_dense.bed\n",
      "Writing to file /content/data/A549_15_expanded.bed\n",
      "Writing to file /content/data/A549_15_overlap.txt\n",
      "Writing to file /content/data/A549_15_overlap.png\n",
      "Writing to file /content/data/A549_15_overlap.svg\n",
      "Writing to file /content/data/A549_15_RefSeqTSS_neighborhood.txt\n",
      "Writing to file /content/data/A549_15_RefSeqTSS_neighborhood.png\n",
      "Writing to file /content/data/A549_15_RefSeqTSS_neighborhood.svg\n",
      "Writing to file /content/data/A549_15_RefSeqTES_neighborhood.txt\n",
      "Writing to file /content/data/A549_15_RefSeqTES_neighborhood.png\n",
      "Writing to file /content/data/A549_15_RefSeqTES_neighborhood.svg\n",
      "Warning could not automatically open in a browser /content/data/webpage_15.html\n"
     ]
    }
   ]
  },
  {
   "cell_type": "markdown",
   "source": [
    "В результате выполнения команды LearnModel будет создан набор файлов (в том числе HTML страничка) в папке выдачи, которая была указана при запуске. Скачиваем эту папку себе на копьютер и открываем HTML файл.\n",
    "\n",
    "Дальнейшие инстркции -- см. в описании ДЗ"
   ],
   "metadata": {
    "id": "7yuCmmw-gsFC",
    "pycharm": {
     "name": "#%% md\n"
    }
   }
  },
  {
   "cell_type": "markdown",
   "source": [
    "**Бонус:**"
   ],
   "metadata": {
    "id": "qNUr9FPKBOiT",
    "pycharm": {
     "name": "#%% md\n"
    }
   }
  },
  {
   "cell_type": "code",
   "source": [
    "state_names = [ 'Active_Promoter',\n",
    "                'Weak_Enhancer',\n",
    "                'Strong_Enhancer',\n",
    "                'Active_Promoter',\n",
    "                'Active_Promoter',\n",
    "                'Weak_Enhancer',\n",
    "                'Weak_Enhancer',\n",
    "                'Weak_Enhancer',\n",
    "                'Weak_Enhancer',\n",
    "                'Weak_Transcribed',\n",
    "                'Weak_Transcribed',\n",
    "                'Weak_Transcribed',\n",
    "                'Repressed',\n",
    "                'Heterochromatin',\n",
    "                'Heterochromatin' ]\n",
    "\n",
    "with open(f'data/A549_15_dense.bed', 'r') as origin_file:\n",
    "  with open(f'A549_15_dense_named.bed', 'w') as named_file:\n",
    "    lines = origin_file.readlines()\n",
    "    named_file.write(lines[0])\n",
    "    for line in lines[1:]:\n",
    "        line_splited = line.split('\\t')\n",
    "        line_splited[3] += '_' + state_names[int(line_splited[3]) - 1]\n",
    "        named_file.write('\\t'.join(line_splited))\n"
   ],
   "metadata": {
    "id": "hQg_mgTfBQsw",
    "pycharm": {
     "name": "#%%\n"
    }
   },
   "execution_count": 14,
   "outputs": []
  }
 ]
}